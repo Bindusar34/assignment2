{
 "cells": [
  {
   "cell_type": "code",
   "execution_count": null,
   "id": "56504b0d-35b0-4254-8474-eb5d1cc96572",
   "metadata": {},
   "outputs": [],
   "source": [
    "Q1. How do you comment code in Python? What are the different types of comments?"
   ]
  },
  {
   "cell_type": "code",
   "execution_count": null,
   "id": "eb365299-26ca-4a58-917c-bdb86902451e",
   "metadata": {},
   "outputs": [],
   "source": [
    "1)Comment code  in Python begin with a hash mark ( # ),\n",
    "There are three types of comments: single-line, multi-line, and Documentation comments"
   ]
  },
  {
   "cell_type": "code",
   "execution_count": null,
   "id": "1460f429-ed99-43d0-87ac-60ea81179dfd",
   "metadata": {},
   "outputs": [],
   "source": [
    "Q2. What are variables in Python? How do you declare and assign values to variables?"
   ]
  },
  {
   "cell_type": "code",
   "execution_count": null,
   "id": "12d62695-7f52-4207-826b-51b838dec71d",
   "metadata": {},
   "outputs": [],
   "source": [
    "2)Python variables are  containers for storing data values.\n",
    "i)Just name the variable.\n",
    "ii)Assign the required value to it.\n",
    "iii)The data type of the variable will be automatically determined from the value assigned, we need not define it explicitly"
   ]
  },
  {
   "cell_type": "code",
   "execution_count": null,
   "id": "491bad3c-a408-4d37-a9e6-c9ded35f4e62",
   "metadata": {},
   "outputs": [],
   "source": [
    "Q3. How do you convert one data type to another in Python?"
   ]
  },
  {
   "cell_type": "code",
   "execution_count": null,
   "id": "cd9b1e8e-3ddc-494b-93b9-2cbbf400c8ff",
   "metadata": {},
   "outputs": [],
   "source": [
    "3)There are two types of type conversion in Python.\n",
    "\n",
    "a)Implicit Conversion(automatic type conversion)\n",
    "b)Explicit Conversion(manual type conversion)\n",
    "\n",
    "a)Python Implicit Type Conversion\n",
    "\n",
    "In certain situations, Python automatically converts one data type to another. This is known as implicit type conversion.\n",
    "\n",
    "b)Explicit Type Conversion\n",
    "\n",
    "In Explicit Type Conversion, users convert the data type of an object to required data type.\n",
    "\n",
    "We use the built-in functions like int(), float(), str(), etc to perform explicit type conversion."
   ]
  },
  {
   "cell_type": "code",
   "execution_count": null,
   "id": "78addc7a-a359-4cea-bac6-7dd929683d61",
   "metadata": {},
   "outputs": [],
   "source": [
    "Q4. How do you write and execute a Python script from the command line?"
   ]
  },
  {
   "cell_type": "code",
   "execution_count": null,
   "id": "41e7eda8-d7e8-4cb3-9e29-a9ffe4e44f22",
   "metadata": {},
   "outputs": [],
   "source": [
    "4)If we just want to write simple code like print('Hello world!') ,\n",
    "we can use the python interpreter by typing python in the Terminal.\n",
    "The python interpreter lets we write and execute code line by line."
   ]
  },
  {
   "cell_type": "code",
   "execution_count": null,
   "id": "bec42a97-2bfa-4b08-b4f8-b3dcb0ff1e50",
   "metadata": {},
   "outputs": [],
   "source": [
    "Q5. Given a list my_list = [1, 2, 3, 4, 5], write the code to slice the list and obtain the sub-list [2, 3]."
   ]
  },
  {
   "cell_type": "code",
   "execution_count": null,
   "id": "6096fd68-eab7-4538-97a3-d5e848246e92",
   "metadata": {},
   "outputs": [],
   "source": [
    "5)my_list=[1,2,3,4,5,[2,3]]\n",
    "my_list[0:6:1]"
   ]
  },
  {
   "cell_type": "code",
   "execution_count": null,
   "id": "96bf7ff9-3351-4439-8db8-d6f57a960d33",
   "metadata": {},
   "outputs": [],
   "source": [
    "Q6. What is a complex number in mathematics, and how is it represented in Python?"
   ]
  },
  {
   "cell_type": "code",
   "execution_count": 1,
   "id": "5209f150-b34c-45ed-8476-c6941a41bd0e",
   "metadata": {},
   "outputs": [],
   "source": [
    "6)Complex numbers are the numbers that are expressed in the form of a+ib\n",
    "where, a,b are real numbers and 'i' is an imaginary number.\n",
    "\n",
    "complex number in python consists of two values, \n",
    "the first one is the real part of the complex number, \n",
    "and the second one is the imaginary part of the complex number."
   ]
  },
  {
   "cell_type": "code",
   "execution_count": null,
   "id": "fb470eb2-68cc-4cc8-b08f-2d668a126b80",
   "metadata": {},
   "outputs": [],
   "source": [
    "Q7. What is the correct way to declare a variable named age and assign the value 25 to it?"
   ]
  },
  {
   "cell_type": "code",
   "execution_count": null,
   "id": "889ed536-71ff-4b92-a45d-2e468fcf1eee",
   "metadata": {},
   "outputs": [],
   "source": [
    "7)age=25"
   ]
  },
  {
   "cell_type": "code",
   "execution_count": null,
   "id": "6f48debe-42a5-45ad-8dc1-544eb80e7264",
   "metadata": {},
   "outputs": [],
   "source": [
    "Q8. Declare a variable named price and assign the value 9.99 to it. What data type does this variable\n",
    "belong to?"
   ]
  },
  {
   "cell_type": "code",
   "execution_count": null,
   "id": "c40e80ed-69b7-4c3a-9f3f-9885ade5d8f9",
   "metadata": {},
   "outputs": [],
   "source": [
    "8)price = 9.99\n",
    "data types of price is float "
   ]
  },
  {
   "cell_type": "code",
   "execution_count": null,
   "id": "808eecdb-fc54-42a8-bc43-13f92e06d9d7",
   "metadata": {},
   "outputs": [],
   "source": [
    "Q9. Create a variable named name and assign your full name to it as a string. How would you print the\n",
    "value of this variable?"
   ]
  },
  {
   "cell_type": "code",
   "execution_count": null,
   "id": "18d0a045-8f7b-41b3-8058-575e557a78e4",
   "metadata": {},
   "outputs": [],
   "source": [
    "9) name=\"Bindusar Patra\"\n",
    "\n",
    "print(name)"
   ]
  },
  {
   "cell_type": "code",
   "execution_count": null,
   "id": "853b2b9e-27c0-422d-a63e-3cb02df274f7",
   "metadata": {},
   "outputs": [],
   "source": [
    "Q10. Given the string \"Hello, World!\", extract the substring \"World\"."
   ]
  },
  {
   "cell_type": "code",
   "execution_count": null,
   "id": "d10ad623-24fc-4c8a-a8e2-80d9a30681fd",
   "metadata": {},
   "outputs": [],
   "source": [
    "10)st= \"hellow world\"\n",
    "st[7:12]"
   ]
  },
  {
   "cell_type": "code",
   "execution_count": null,
   "id": "7972f8de-0286-4bb4-b7b2-b7cc2eb93ef6",
   "metadata": {},
   "outputs": [],
   "source": [
    "Q11. Create a variable named \"is_student\" and assign it a boolean value indicating whether you are\n",
    "currently a student or not."
   ]
  },
  {
   "cell_type": "code",
   "execution_count": null,
   "id": "bce41193-998d-4415-93a2-2298a5eb18d9",
   "metadata": {},
   "outputs": [],
   "source": [
    "11)is_student=True\n",
    "print(is_student)"
   ]
  }
 ],
 "metadata": {
  "kernelspec": {
   "display_name": "Python 3 (ipykernel)",
   "language": "python",
   "name": "python3"
  },
  "language_info": {
   "codemirror_mode": {
    "name": "ipython",
    "version": 3
   },
   "file_extension": ".py",
   "mimetype": "text/x-python",
   "name": "python",
   "nbconvert_exporter": "python",
   "pygments_lexer": "ipython3",
   "version": "3.10.8"
  }
 },
 "nbformat": 4,
 "nbformat_minor": 5
}
